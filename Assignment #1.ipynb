{
 "cells": [
  {
   "cell_type": "code",
   "execution_count": 1,
   "id": "313adcd5",
   "metadata": {},
   "outputs": [
    {
     "name": "stdout",
     "output_type": "stream",
     "text": [
      "Twinkle, Twinkle, little star,\n",
      " \t How I wonder what you are! \n",
      " \t \t Up above the world so high,\n",
      " \t \t Like a Diamond in the sky.Twinkle,  Twinkle, little star,\n",
      " \t How I wonder what you are\n"
     ]
    }
   ],
   "source": [
    "print(\"Twinkle, Twinkle, little star,\\n \\t How I wonder what you are! \\n \\t \\t Up above the world so high,\\n \\t \\t Like a Diamond in the sky.Twinkle,  Twinkle, little star,\\n \\t How I wonder what you are\")"
   ]
  },
  {
   "cell_type": "code",
   "execution_count": 2,
   "id": "547dfaed",
   "metadata": {},
   "outputs": [
    {
     "name": "stdout",
     "output_type": "stream",
     "text": [
      "3.9.7\n"
     ]
    }
   ],
   "source": [
    "from platform import python_version\n",
    "\n",
    "print(python_version())"
   ]
  },
  {
   "cell_type": "code",
   "execution_count": 3,
   "id": "19e281e1",
   "metadata": {},
   "outputs": [
    {
     "name": "stdout",
     "output_type": "stream",
     "text": [
      "Current date : 2021-12-29 \n",
      " Current Time: 21:58:47\n"
     ]
    }
   ],
   "source": [
    "import datetime\n",
    "now = datetime.datetime.now()\n",
    "print (\"Current date : \" +  now.strftime(\"%Y-%m-%d \\n Current Time: %H:%M:%S\"))\n"
   ]
  },
  {
   "cell_type": "code",
   "execution_count": 9,
   "id": "70c98c91",
   "metadata": {},
   "outputs": [
    {
     "name": "stdout",
     "output_type": "stream",
     "text": [
      "Enter radius:4\n",
      "50.264\n"
     ]
    }
   ],
   "source": [
    "pi=3.1415;\n",
    "radius=float(input(\"Enter radius:\"));\n",
    "area=pi*radius*radius;\n",
    "print(area);"
   ]
  },
  {
   "cell_type": "code",
   "execution_count": 15,
   "id": "5481beaa",
   "metadata": {},
   "outputs": [
    {
     "name": "stdout",
     "output_type": "stream",
     "text": [
      "Enter first name:ali\n",
      "Enter last name:akram\n",
      "akram\tali\n"
     ]
    }
   ],
   "source": [
    "fname=input(\"Enter first name:\");\n",
    "lname=input(\"Enter last name:\");\n",
    "print(lname+\"\\t\"+fname)\n"
   ]
  },
  {
   "cell_type": "code",
   "execution_count": null,
   "id": "9a2e36b7",
   "metadata": {},
   "outputs": [],
   "source": [
    "x=input(\"Enter input:\");\n",
    "y=input(\"Enter input:\");\n",
    "print(x+y)"
   ]
  }
 ],
 "metadata": {
  "kernelspec": {
   "display_name": "Python 3 (ipykernel)",
   "language": "python",
   "name": "python3"
  },
  "language_info": {
   "codemirror_mode": {
    "name": "ipython",
    "version": 3
   },
   "file_extension": ".py",
   "mimetype": "text/x-python",
   "name": "python",
   "nbconvert_exporter": "python",
   "pygments_lexer": "ipython3",
   "version": "3.9.7"
  }
 },
 "nbformat": 4,
 "nbformat_minor": 5
}
